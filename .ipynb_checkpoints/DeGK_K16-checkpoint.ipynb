{
 "cells": [
  {
   "cell_type": "code",
   "execution_count": 2,
   "id": "f409347e-afba-4dbc-939d-21c54fd7fb12",
   "metadata": {},
   "outputs": [],
   "source": [
    "import numpy as np\n",
    "import matplotlib.pyplot as pl\n",
    "import pandas as pd\n",
    "import scipy.stats as sc"
   ]
  },
  {
   "attachments": {},
   "cell_type": "markdown",
   "id": "a7f7bef4-3ab0-4d0d-9ceb-6199f4731b01",
   "metadata": {},
   "source": [
    "Câu 1: Đọc dữ liệu và hiển thị 10 dòng dữ liệu đầu tiên!"
   ]
  },
  {
   "cell_type": "code",
   "execution_count": 12,
   "id": "d559878f-47b2-442a-bb2f-4b907138981c",
   "metadata": {},
   "outputs": [
    {
     "data": {
      "text/html": [
       "<div>\n",
       "<style scoped>\n",
       "    .dataframe tbody tr th:only-of-type {\n",
       "        vertical-align: middle;\n",
       "    }\n",
       "\n",
       "    .dataframe tbody tr th {\n",
       "        vertical-align: top;\n",
       "    }\n",
       "\n",
       "    .dataframe thead th {\n",
       "        text-align: right;\n",
       "    }\n",
       "</style>\n",
       "<table border=\"1\" class=\"dataframe\">\n",
       "  <thead>\n",
       "    <tr style=\"text-align: right;\">\n",
       "      <th></th>\n",
       "      <th>species</th>\n",
       "      <th>island</th>\n",
       "      <th>bill_length_mm</th>\n",
       "      <th>bill_depth_mm</th>\n",
       "      <th>flipper_length_mm</th>\n",
       "      <th>body_mass_g</th>\n",
       "    </tr>\n",
       "  </thead>\n",
       "  <tbody>\n",
       "    <tr>\n",
       "      <th>0</th>\n",
       "      <td>Adelie</td>\n",
       "      <td>Torgersen</td>\n",
       "      <td>39.1</td>\n",
       "      <td>18.7</td>\n",
       "      <td>181</td>\n",
       "      <td>3750</td>\n",
       "    </tr>\n",
       "    <tr>\n",
       "      <th>1</th>\n",
       "      <td>Adelie</td>\n",
       "      <td>Torgersen</td>\n",
       "      <td>39.5</td>\n",
       "      <td>17.4</td>\n",
       "      <td>186</td>\n",
       "      <td>3800</td>\n",
       "    </tr>\n",
       "    <tr>\n",
       "      <th>2</th>\n",
       "      <td>Adelie</td>\n",
       "      <td>Torgersen</td>\n",
       "      <td>40.3</td>\n",
       "      <td>18.0</td>\n",
       "      <td>195</td>\n",
       "      <td>3250</td>\n",
       "    </tr>\n",
       "    <tr>\n",
       "      <th>3</th>\n",
       "      <td>Chinstrap</td>\n",
       "      <td>Dream</td>\n",
       "      <td>46.5</td>\n",
       "      <td>17.9</td>\n",
       "      <td>192</td>\n",
       "      <td>3500</td>\n",
       "    </tr>\n",
       "    <tr>\n",
       "      <th>4</th>\n",
       "      <td>Chinstrap</td>\n",
       "      <td>Dream</td>\n",
       "      <td>50.0</td>\n",
       "      <td>19.5</td>\n",
       "      <td>196</td>\n",
       "      <td>3900</td>\n",
       "    </tr>\n",
       "    <tr>\n",
       "      <th>5</th>\n",
       "      <td>Chinstrap</td>\n",
       "      <td>Dream</td>\n",
       "      <td>51.3</td>\n",
       "      <td>18.7</td>\n",
       "      <td>193</td>\n",
       "      <td>3650</td>\n",
       "    </tr>\n",
       "    <tr>\n",
       "      <th>6</th>\n",
       "      <td>Gentoo</td>\n",
       "      <td>Biscoe</td>\n",
       "      <td>46.1</td>\n",
       "      <td>14.5</td>\n",
       "      <td>211</td>\n",
       "      <td>4500</td>\n",
       "    </tr>\n",
       "    <tr>\n",
       "      <th>7</th>\n",
       "      <td>Gentoo</td>\n",
       "      <td>Biscoe</td>\n",
       "      <td>50.0</td>\n",
       "      <td>15.2</td>\n",
       "      <td>216</td>\n",
       "      <td>5000</td>\n",
       "    </tr>\n",
       "    <tr>\n",
       "      <th>8</th>\n",
       "      <td>Gentoo</td>\n",
       "      <td>Biscoe</td>\n",
       "      <td>48.7</td>\n",
       "      <td>16.0</td>\n",
       "      <td>220</td>\n",
       "      <td>4800</td>\n",
       "    </tr>\n",
       "    <tr>\n",
       "      <th>9</th>\n",
       "      <td>Adelie</td>\n",
       "      <td>Dream</td>\n",
       "      <td>38.5</td>\n",
       "      <td>17.9</td>\n",
       "      <td>190</td>\n",
       "      <td>3450</td>\n",
       "    </tr>\n",
       "  </tbody>\n",
       "</table>\n",
       "</div>"
      ],
      "text/plain": [
       "     species     island  bill_length_mm  bill_depth_mm  flipper_length_mm  \\\n",
       "0     Adelie  Torgersen            39.1           18.7                181   \n",
       "1     Adelie  Torgersen            39.5           17.4                186   \n",
       "2     Adelie  Torgersen            40.3           18.0                195   \n",
       "3  Chinstrap      Dream            46.5           17.9                192   \n",
       "4  Chinstrap      Dream            50.0           19.5                196   \n",
       "5  Chinstrap      Dream            51.3           18.7                193   \n",
       "6     Gentoo     Biscoe            46.1           14.5                211   \n",
       "7     Gentoo     Biscoe            50.0           15.2                216   \n",
       "8     Gentoo     Biscoe            48.7           16.0                220   \n",
       "9     Adelie      Dream            38.5           17.9                190   \n",
       "\n",
       "   body_mass_g  \n",
       "0         3750  \n",
       "1         3800  \n",
       "2         3250  \n",
       "3         3500  \n",
       "4         3900  \n",
       "5         3650  \n",
       "6         4500  \n",
       "7         5000  \n",
       "8         4800  \n",
       "9         3450  "
      ]
     },
     "execution_count": 12,
     "metadata": {},
     "output_type": "execute_result"
    }
   ],
   "source": [
    "data = pd.read_csv('data/penguins-data.csv', header=0)\n",
    "data.head(10)"
   ]
  },
  {
   "attachments": {},
   "cell_type": "markdown",
   "id": "89a89427-881e-4073-b9ed-9269c2f0695f",
   "metadata": {},
   "source": [
    "Câu 2: a.\tSố lượng chim cánh cụt của mỗi loài\n",
    "data.species"
   ]
  },
  {
   "cell_type": "code",
   "execution_count": 17,
   "id": "f00b740d-12e1-4eac-ba33-f83f9f45a952",
   "metadata": {},
   "outputs": [
    {
     "data": {
      "text/plain": [
       "species\n",
       "Adelie       12\n",
       "Chinstrap     9\n",
       "Gentoo        9\n",
       "Name: count, dtype: int64"
      ]
     },
     "execution_count": 17,
     "metadata": {},
     "output_type": "execute_result"
    }
   ],
   "source": [
    "data.species.value_counts()"
   ]
  },
  {
   "attachments": {},
   "cell_type": "markdown",
   "id": "bb35b3e1-c794-4d8d-a8eb-72db7b38455c",
   "metadata": {},
   "source": [
    "Câu 2: b.\tSố lượng mỗi loài chim cánh cụt trên mỗi đảo!"
   ]
  },
  {
   "cell_type": "code",
   "execution_count": 29,
   "id": "98ca09ff-fd88-4e19-bb5a-7cff1614c9dd",
   "metadata": {},
   "outputs": [
    {
     "data": {
      "text/plain": [
       "species    island   \n",
       "Adelie     Torgersen    6\n",
       "           Biscoe       3\n",
       "           Dream        3\n",
       "Chinstrap  Biscoe       3\n",
       "           Dream        3\n",
       "           Torgersen    3\n",
       "Gentoo     Biscoe       3\n",
       "           Dream        3\n",
       "           Torgersen    3\n",
       "Name: count, dtype: int64"
      ]
     },
     "execution_count": 29,
     "metadata": {},
     "output_type": "execute_result"
    }
   ],
   "source": [
    "data[['species','island']].value_counts()"
   ]
  },
  {
   "attachments": {},
   "cell_type": "markdown",
   "id": "42ebc070-b385-4545-bddc-b8d92a15105c",
   "metadata": {},
   "source": [
    "Câu 2: c.\tVới mỗi loại chim cánh cụt, bạn hãy so sánh các đại lượng thống kê: giá trị trung bình, trung vị, độ lệch chuẩn trên các thuộc tính độ dài mỏ (bill_leghth_mm), độ sâu mỏ (bill_depth_mm), độ dài cánh (flipper) và trọng lượng (body_mass)."
   ]
  },
  {
   "cell_type": "code",
   "execution_count": 56,
   "id": "255d1ef3-4096-472b-a01a-70c259f47aff",
   "metadata": {},
   "outputs": [
    {
     "name": "stdout",
     "output_type": "stream",
     "text": [
      "Thong ke chim loai Adelie:\n"
     ]
    },
    {
     "data": {
      "text/html": [
       "<div>\n",
       "<style scoped>\n",
       "    .dataframe tbody tr th:only-of-type {\n",
       "        vertical-align: middle;\n",
       "    }\n",
       "\n",
       "    .dataframe tbody tr th {\n",
       "        vertical-align: top;\n",
       "    }\n",
       "\n",
       "    .dataframe thead th {\n",
       "        text-align: right;\n",
       "    }\n",
       "</style>\n",
       "<table border=\"1\" class=\"dataframe\">\n",
       "  <thead>\n",
       "    <tr style=\"text-align: right;\">\n",
       "      <th></th>\n",
       "      <th>bill_length_mm</th>\n",
       "      <th>bill_depth_mm</th>\n",
       "      <th>flipper_length_mm</th>\n",
       "      <th>body_mass_g</th>\n",
       "    </tr>\n",
       "  </thead>\n",
       "  <tbody>\n",
       "    <tr>\n",
       "      <th>count</th>\n",
       "      <td>12.000000</td>\n",
       "      <td>12.000000</td>\n",
       "      <td>12.000000</td>\n",
       "      <td>12.000000</td>\n",
       "    </tr>\n",
       "    <tr>\n",
       "      <th>mean</th>\n",
       "      <td>39.483333</td>\n",
       "      <td>18.158333</td>\n",
       "      <td>187.083333</td>\n",
       "      <td>3693.333333</td>\n",
       "    </tr>\n",
       "    <tr>\n",
       "      <th>std</th>\n",
       "      <td>0.974057</td>\n",
       "      <td>0.514266</td>\n",
       "      <td>4.166061</td>\n",
       "      <td>180.823034</td>\n",
       "    </tr>\n",
       "    <tr>\n",
       "      <th>min</th>\n",
       "      <td>37.800000</td>\n",
       "      <td>17.400000</td>\n",
       "      <td>181.000000</td>\n",
       "      <td>3250.000000</td>\n",
       "    </tr>\n",
       "    <tr>\n",
       "      <th>25%</th>\n",
       "      <td>38.975000</td>\n",
       "      <td>17.825000</td>\n",
       "      <td>184.500000</td>\n",
       "      <td>3672.500000</td>\n",
       "    </tr>\n",
       "    <tr>\n",
       "      <th>50%</th>\n",
       "      <td>39.300000</td>\n",
       "      <td>18.150000</td>\n",
       "      <td>186.500000</td>\n",
       "      <td>3735.000000</td>\n",
       "    </tr>\n",
       "    <tr>\n",
       "      <th>75%</th>\n",
       "      <td>40.150000</td>\n",
       "      <td>18.475000</td>\n",
       "      <td>190.000000</td>\n",
       "      <td>3805.000000</td>\n",
       "    </tr>\n",
       "    <tr>\n",
       "      <th>max</th>\n",
       "      <td>41.300000</td>\n",
       "      <td>19.000000</td>\n",
       "      <td>195.000000</td>\n",
       "      <td>3900.000000</td>\n",
       "    </tr>\n",
       "  </tbody>\n",
       "</table>\n",
       "</div>"
      ],
      "text/plain": [
       "       bill_length_mm  bill_depth_mm  flipper_length_mm  body_mass_g\n",
       "count       12.000000      12.000000          12.000000    12.000000\n",
       "mean        39.483333      18.158333         187.083333  3693.333333\n",
       "std          0.974057       0.514266           4.166061   180.823034\n",
       "min         37.800000      17.400000         181.000000  3250.000000\n",
       "25%         38.975000      17.825000         184.500000  3672.500000\n",
       "50%         39.300000      18.150000         186.500000  3735.000000\n",
       "75%         40.150000      18.475000         190.000000  3805.000000\n",
       "max         41.300000      19.000000         195.000000  3900.000000"
      ]
     },
     "execution_count": 56,
     "metadata": {},
     "output_type": "execute_result"
    }
   ],
   "source": [
    "print('Thong ke chim loai Adelie:')\n",
    "data[data.species=='Adelie'].describe()"
   ]
  },
  {
   "cell_type": "code",
   "execution_count": 58,
   "id": "b19efccf-bf89-4d01-a5e5-6286074aecaf",
   "metadata": {},
   "outputs": [
    {
     "name": "stdout",
     "output_type": "stream",
     "text": [
      "Thong ke chim loai Chinstrap:\n"
     ]
    },
    {
     "data": {
      "text/html": [
       "<div>\n",
       "<style scoped>\n",
       "    .dataframe tbody tr th:only-of-type {\n",
       "        vertical-align: middle;\n",
       "    }\n",
       "\n",
       "    .dataframe tbody tr th {\n",
       "        vertical-align: top;\n",
       "    }\n",
       "\n",
       "    .dataframe thead th {\n",
       "        text-align: right;\n",
       "    }\n",
       "</style>\n",
       "<table border=\"1\" class=\"dataframe\">\n",
       "  <thead>\n",
       "    <tr style=\"text-align: right;\">\n",
       "      <th></th>\n",
       "      <th>bill_length_mm</th>\n",
       "      <th>bill_depth_mm</th>\n",
       "      <th>flipper_length_mm</th>\n",
       "      <th>body_mass_g</th>\n",
       "    </tr>\n",
       "  </thead>\n",
       "  <tbody>\n",
       "    <tr>\n",
       "      <th>count</th>\n",
       "      <td>9.000000</td>\n",
       "      <td>9.000000</td>\n",
       "      <td>9.000000</td>\n",
       "      <td>9.000000</td>\n",
       "    </tr>\n",
       "    <tr>\n",
       "      <th>mean</th>\n",
       "      <td>49.333333</td>\n",
       "      <td>18.611111</td>\n",
       "      <td>195.000000</td>\n",
       "      <td>3722.222222</td>\n",
       "    </tr>\n",
       "    <tr>\n",
       "      <th>std</th>\n",
       "      <td>1.607794</td>\n",
       "      <td>0.566667</td>\n",
       "      <td>3.122499</td>\n",
       "      <td>160.294867</td>\n",
       "    </tr>\n",
       "    <tr>\n",
       "      <th>min</th>\n",
       "      <td>46.500000</td>\n",
       "      <td>17.800000</td>\n",
       "      <td>190.000000</td>\n",
       "      <td>3500.000000</td>\n",
       "    </tr>\n",
       "    <tr>\n",
       "      <th>25%</th>\n",
       "      <td>48.100000</td>\n",
       "      <td>18.300000</td>\n",
       "      <td>193.000000</td>\n",
       "      <td>3600.000000</td>\n",
       "    </tr>\n",
       "    <tr>\n",
       "      <th>50%</th>\n",
       "      <td>49.800000</td>\n",
       "      <td>18.600000</td>\n",
       "      <td>195.000000</td>\n",
       "      <td>3700.000000</td>\n",
       "    </tr>\n",
       "    <tr>\n",
       "      <th>75%</th>\n",
       "      <td>50.500000</td>\n",
       "      <td>19.000000</td>\n",
       "      <td>197.000000</td>\n",
       "      <td>3850.000000</td>\n",
       "    </tr>\n",
       "    <tr>\n",
       "      <th>max</th>\n",
       "      <td>51.300000</td>\n",
       "      <td>19.500000</td>\n",
       "      <td>200.000000</td>\n",
       "      <td>3950.000000</td>\n",
       "    </tr>\n",
       "  </tbody>\n",
       "</table>\n",
       "</div>"
      ],
      "text/plain": [
       "       bill_length_mm  bill_depth_mm  flipper_length_mm  body_mass_g\n",
       "count        9.000000       9.000000           9.000000     9.000000\n",
       "mean        49.333333      18.611111         195.000000  3722.222222\n",
       "std          1.607794       0.566667           3.122499   160.294867\n",
       "min         46.500000      17.800000         190.000000  3500.000000\n",
       "25%         48.100000      18.300000         193.000000  3600.000000\n",
       "50%         49.800000      18.600000         195.000000  3700.000000\n",
       "75%         50.500000      19.000000         197.000000  3850.000000\n",
       "max         51.300000      19.500000         200.000000  3950.000000"
      ]
     },
     "execution_count": 58,
     "metadata": {},
     "output_type": "execute_result"
    }
   ],
   "source": [
    "print('Thong ke chim loai Chinstrap:')\n",
    "data[data.species=='Chinstrap'].describe()"
   ]
  },
  {
   "cell_type": "code",
   "execution_count": 60,
   "id": "92471924-32b5-4dc4-855b-8bdcca4c6706",
   "metadata": {},
   "outputs": [
    {
     "name": "stdout",
     "output_type": "stream",
     "text": [
      "Thong ke chim loai Gentoo:\n"
     ]
    },
    {
     "data": {
      "text/html": [
       "<div>\n",
       "<style scoped>\n",
       "    .dataframe tbody tr th:only-of-type {\n",
       "        vertical-align: middle;\n",
       "    }\n",
       "\n",
       "    .dataframe tbody tr th {\n",
       "        vertical-align: top;\n",
       "    }\n",
       "\n",
       "    .dataframe thead th {\n",
       "        text-align: right;\n",
       "    }\n",
       "</style>\n",
       "<table border=\"1\" class=\"dataframe\">\n",
       "  <thead>\n",
       "    <tr style=\"text-align: right;\">\n",
       "      <th></th>\n",
       "      <th>bill_length_mm</th>\n",
       "      <th>bill_depth_mm</th>\n",
       "      <th>flipper_length_mm</th>\n",
       "      <th>body_mass_g</th>\n",
       "    </tr>\n",
       "  </thead>\n",
       "  <tbody>\n",
       "    <tr>\n",
       "      <th>count</th>\n",
       "      <td>9.000000</td>\n",
       "      <td>9.000000</td>\n",
       "      <td>9.000000</td>\n",
       "      <td>9.000000</td>\n",
       "    </tr>\n",
       "    <tr>\n",
       "      <th>mean</th>\n",
       "      <td>47.966667</td>\n",
       "      <td>15.133333</td>\n",
       "      <td>215.888889</td>\n",
       "      <td>4761.111111</td>\n",
       "    </tr>\n",
       "    <tr>\n",
       "      <th>std</th>\n",
       "      <td>1.820714</td>\n",
       "      <td>0.574456</td>\n",
       "      <td>3.919325</td>\n",
       "      <td>167.290499</td>\n",
       "    </tr>\n",
       "    <tr>\n",
       "      <th>min</th>\n",
       "      <td>45.300000</td>\n",
       "      <td>14.200000</td>\n",
       "      <td>210.000000</td>\n",
       "      <td>4500.000000</td>\n",
       "    </tr>\n",
       "    <tr>\n",
       "      <th>25%</th>\n",
       "      <td>46.100000</td>\n",
       "      <td>14.800000</td>\n",
       "      <td>214.000000</td>\n",
       "      <td>4650.000000</td>\n",
       "    </tr>\n",
       "    <tr>\n",
       "      <th>50%</th>\n",
       "      <td>48.500000</td>\n",
       "      <td>15.200000</td>\n",
       "      <td>216.000000</td>\n",
       "      <td>4750.000000</td>\n",
       "    </tr>\n",
       "    <tr>\n",
       "      <th>75%</th>\n",
       "      <td>49.200000</td>\n",
       "      <td>15.500000</td>\n",
       "      <td>218.000000</td>\n",
       "      <td>4900.000000</td>\n",
       "    </tr>\n",
       "    <tr>\n",
       "      <th>max</th>\n",
       "      <td>50.300000</td>\n",
       "      <td>16.000000</td>\n",
       "      <td>222.000000</td>\n",
       "      <td>5000.000000</td>\n",
       "    </tr>\n",
       "  </tbody>\n",
       "</table>\n",
       "</div>"
      ],
      "text/plain": [
       "       bill_length_mm  bill_depth_mm  flipper_length_mm  body_mass_g\n",
       "count        9.000000       9.000000           9.000000     9.000000\n",
       "mean        47.966667      15.133333         215.888889  4761.111111\n",
       "std          1.820714       0.574456           3.919325   167.290499\n",
       "min         45.300000      14.200000         210.000000  4500.000000\n",
       "25%         46.100000      14.800000         214.000000  4650.000000\n",
       "50%         48.500000      15.200000         216.000000  4750.000000\n",
       "75%         49.200000      15.500000         218.000000  4900.000000\n",
       "max         50.300000      16.000000         222.000000  5000.000000"
      ]
     },
     "execution_count": 60,
     "metadata": {},
     "output_type": "execute_result"
    }
   ],
   "source": [
    "print('Thong ke chim loai Gentoo:')\n",
    "data[data.species=='Gentoo'].describe()"
   ]
  },
  {
   "attachments": {},
   "cell_type": "markdown",
   "id": "ba989deb-75cf-4e83-a74c-1b25073a960e",
   "metadata": {},
   "source": [
    "Câu 2: d.\tDựa trên kết quả tính được, bạn có rút ra được nhận xét gì không?"
   ]
  },
  {
   "cell_type": "markdown",
   "id": "ad840a7a-2566-44b3-9221-0812c24547a5",
   "metadata": {},
   "source": [
    "Câu 3: Vẽ đồ thị phù hợp thể hiện phân phối của ba loại chim cánh cụt, qua đó bạn hãy đưa ra bình luận của mình."
   ]
  },
  {
   "cell_type": "code",
   "execution_count": 84,
   "id": "b7f7fdc3-22d9-4f7f-a7a5-1394e318ad9a",
   "metadata": {},
   "outputs": [
    {
     "data": {
      "image/png": "[encoded data removed]",
      "text/plain": [
       "<Figure size 640x480 with 1 Axes>"
      ]
     },
     "metadata": {},
     "output_type": "display_data"
    }
   ],
   "source": [
    "phanphoi = data[['species','island']].value_counts()\n",
    "pl.hist(phanphoi)\n",
    "pl.show()"
   ]
  },
  {
   "cell_type": "markdown",
   "id": "34069ee6-beae-4583-9aeb-d3b06dcb2545",
   "metadata": {},
   "source": [
    "Câu 4: Chọn loại đồ thị phù hợp để khảo sát mối quan hệ giữa độ dài cánh và trọng lượng của loài chim cánh cụt Gentoo:\n",
    "a.\tTheo bạn hai đại lượng này có quan hệ với nhau hay không? Giải thích."
   ]
  },
  {
   "cell_type": "markdown",
   "id": "4e3d3546-41b7-4182-9f96-33e6504ef89e",
   "metadata": {},
   "source": [
    "Câu 4: b.\tNgoài độ dài cánh, theo bạn còn thuộc tính nào có khả năng ảnh hưởng đến trọng lượng của loài chim Gentoo?"
   ]
  },
  {
   "cell_type": "code",
   "execution_count": null,
   "id": "cc13284a-cb56-4a33-80e5-3097e6e7ac59",
   "metadata": {},
   "outputs": [],
   "source": []
  }
 ],
 "metadata": {
  "kernelspec": {
   "display_name": "Python [conda env:base] *",
   "language": "python",
   "name": "conda-base-py"
  },
  "language_info": {
   "codemirror_mode": {
    "name": "ipython",
    "version": 3
   },
   "file_extension": ".py",
   "mimetype": "text/x-python",
   "name": "python",
   "nbconvert_exporter": "python",
   "pygments_lexer": "ipython3",
   "version": "3.12.7"
  }
 },
 "nbformat": 4,
 "nbformat_minor": 5
}
