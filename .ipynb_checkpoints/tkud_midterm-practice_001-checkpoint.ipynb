{
 "cells": [
  {
   "cell_type": "markdown",
   "metadata": {
    "id": "iBE-RbkRuU-e"
   },
   "source": [
    "# Ôn tập giữa kỳ\n"
   ]
  },
  {
   "cell_type": "code",
   "execution_count": 3,
   "metadata": {
    "executionInfo": {
     "elapsed": 949,
     "status": "ok",
     "timestamp": 1742275955385,
     "user": {
      "displayName": "Tín Ngô Trương Đức",
      "userId": "15448735358532245821"
     },
     "user_tz": -420
    },
    "id": "vH4qdGAIuU-k"
   },
   "outputs": [],
   "source": [
    "import numpy as np\n",
    "import matplotlib.pyplot as pl\n",
    "import pandas as pd\n",
    "import scipy.stats as sc"
   ]
  },
  {
   "cell_type": "markdown",
   "metadata": {
    "id": "SFNKe2V-uU-n"
   },
   "source": [
    "## ĐỀ BÀI\n",
    "\n",
    "Hệ thống giám sát rủi ro dựa trên hành vi (The Behavior Risk Factor Surveilance System - BRFSS) là một cuộc khảo sát qua điện thoại hàng năm với 350.000 người ở Hoa Kỳ. Như tên gọi của nó, BRFSS được thiết kế để xác định các yếu tố nguy cơ ở người trưởng thành và báo cáo các xu hướng sức khỏe mớ. Ví dụ, người trả lời được hỏi về chế độ ăn uống và hoạt động thể chất hàng tuần, tình trạng HIV/AIDS, khả năng sử dụng thuốc lá và thậm chí cả mức độ chi trả dịch vụ chăm sóc sức khỏe của họ.\n",
    "\n",
    "Bộ dữ liệu **brfss_2000** chứa thông tin khảo sát năm 2000, với hơn 200 thông tin. Trong bộ dữ liệu này, ta chỉ khảo sát một số thông tin sau:\n",
    "-\tgenhlth: người khảo sát tự đánh giá sức khỏe (excellent, very good, good, fair or poor)\n",
    "-\texerany: cho biết có hoạt động thể chất nào trong tháng gần nhất hay không, có (1), không (0)\n",
    "-\thlthplan: có bảo hiểm (1) hay không (0)\n",
    "-\tsmoke100: tổng số điếu thuốc đã hút ít nhất\n",
    "-\theight: chiều cao (inches)\n",
    "-\tweight: cân nặng (pounds)\n",
    "-\twtdesire:  cân nặng mong muốn(pounds)\n",
    "-\tage: tuổi\n",
    "-\tgender: giới tính: nam(m), nữ(f)\n"
   ]
  },
  {
   "cell_type": "markdown",
   "metadata": {
    "id": "aU1jejyquU-p"
   },
   "source": [
    "### Câu 1:\n",
    "\n",
    "Đọc hai bộ dữ liệu trên và cho biết mỗi bộ dữ liệu có kích thước bao nhiêu dòng, bao nhiêu cột?"
   ]
  },
  {
   "cell_type": "code",
   "execution_count": 60,
   "metadata": {
    "colab": {
     "base_uri": "https://localhost:8080/"
    },
    "executionInfo": {
     "elapsed": 22,
     "status": "ok",
     "timestamp": 1742279153707,
     "user": {
      "displayName": "Tín Ngô Trương Đức",
      "userId": "15448735358532245821"
     },
     "user_tz": -420
    },
    "id": "mTRWxhNiuU-p",
    "outputId": "98b564cf-a60c-4393-9f7d-929a990c0812"
   },
   "outputs": [
    {
     "data": {
      "text/plain": [
       "(20000, 9)"
      ]
     },
     "execution_count": 60,
     "metadata": {},
     "output_type": "execute_result"
    }
   ],
   "source": [
    "data = pd.read_csv('/content/brfss_2000.csv', header=0)\n",
    "data.shape"
   ]
  },
  {
   "cell_type": "markdown",
   "metadata": {
    "id": "HqyQ_n0huU-q"
   },
   "source": [
    "### Câu 2\n",
    "\n",
    "a, Tính tỷ lệ nam nữ\n",
    "\n",
    "b, Trong số những người tập thể thao, tỷ lệ những người tự đánh giá có sức khỏe kém là bao nhiêu?"
   ]
  },
  {
   "cell_type": "code",
   "execution_count": 61,
   "metadata": {
    "colab": {
     "base_uri": "https://localhost:8080/"
    },
    "executionInfo": {
     "elapsed": 34,
     "status": "ok",
     "timestamp": 1742279156173,
     "user": {
      "displayName": "Tín Ngô Trương Đức",
      "userId": "15448735358532245821"
     },
     "user_tz": -420
    },
    "id": "rCchlMiXuU-q",
    "outputId": "f7c9898f-369d-4038-abd3-323e8207cfb8"
   },
   "outputs": [
    {
     "name": "stdout",
     "output_type": "stream",
     "text": [
      "Ti le nam: 0.47845\n",
      "Ti le nu: 0.52155\n",
      "Ti le danh gia suc khoe kem: 0.10095\n"
     ]
    }
   ],
   "source": [
    "male = data.gender[data.gender=='m'].count()\n",
    "female = data.gender[data.gender=='f'].count()\n",
    "sum_gender = data.gender.count()\n",
    "print(f'Ti le nam: {male/sum_gender}')\n",
    "print(f'Ti le nu: {female/sum_gender}')\n",
    "\n",
    "fair = data.genhlth[data.genhlth=='fair'].count()\n",
    "sum_genhlth = data.genhlth.count()\n",
    "print(f'Ti le danh gia suc khoe kem: {fair/sum_genhlth}')"
   ]
  },
  {
   "cell_type": "markdown",
   "metadata": {
    "id": "Wo5P1gnFuU-r"
   },
   "source": [
    "### Câu 3\n",
    "\n",
    "a, Đổi đơn vị chiều cao từ inches sang centimet, đơn vị cân nặng từ pound sang kg.\n",
    "\n",
    "b, Tính tỷ lệ những người muốn giảm cân."
   ]
  },
  {
   "cell_type": "code",
   "execution_count": 73,
   "metadata": {
    "colab": {
     "base_uri": "https://localhost:8080/"
    },
    "executionInfo": {
     "elapsed": 45,
     "status": "ok",
     "timestamp": 1742279337428,
     "user": {
      "displayName": "Tín Ngô Trương Đức",
      "userId": "15448735358532245821"
     },
     "user_tz": -420
    },
    "id": "blBQ_LnouU-r",
    "outputId": "4785f289-7b66-43fc-a36d-77d1aa2e6c0d"
   },
   "outputs": [
    {
     "name": "stdout",
     "output_type": "stream",
     "text": [
      "   exerany  hlthplan  smoke100  height  weight  wtdesire  age gender  \\\n",
      "0        0         1         0      70     175       175   77      m   \n",
      "1        0         1         1      64     125       115   33      f   \n",
      "2        1         1         1      60     105       105   49      f   \n",
      "3        1         1         0      66     132       124   42      f   \n",
      "4        0         1         0      61     150       130   55      f   \n",
      "\n",
      "     genhlth  height_cm  weight_kg  \n",
      "0       good     177.80  79.378600  \n",
      "1       good     162.56  56.699000  \n",
      "2       good     152.40  47.627160  \n",
      "3       good     167.64  59.874144  \n",
      "4  very good     154.94  68.038800  \n",
      "Ty le nguoi muon giam can: 0.6382\n"
     ]
    }
   ],
   "source": [
    "# a, Đổi đơn vị chiều cao từ inches sang centimet, đơn vị cân nặng từ pound sang kg.\n",
    "data['height_cm'] = data['height'] * 2.54\n",
    "data['weight_kg'] = data['weight'] * 0.453592\n",
    "print(data.head())\n",
    "#b. tinh ty le nhung nguoi muon giam can\n",
    "tilegiamcan = data.weight[data['wtdesire'] < data['weight']].count()\n",
    "print(f'Ty le nguoi muon giam can: {tilegiamcan/data.weight.count()}')"
   ]
  },
  {
   "cell_type": "markdown",
   "metadata": {
    "id": "ChF8SKAsuU-s"
   },
   "source": [
    "### Câu 4:\n",
    "\n",
    "a, Theo bạn trong các thuộc tính trên, thuộc tính nào có phân phối chuẩn. Vẽ hình minh họa\n",
    "\n",
    "b, Vẽ đồ thị boxplot so sánh cân nặng của những người có tập thể dục"
   ]
  },
  {
   "cell_type": "code",
   "execution_count": 80,
   "metadata": {
    "colab": {
     "base_uri": "https://localhost:8080/",
     "height": 586
    },
    "executionInfo": {
     "elapsed": 171,
     "status": "ok",
     "timestamp": 1742279651941,
     "user": {
      "displayName": "Tín Ngô Trương Đức",
      "userId": "15448735358532245821"
     },
     "user_tz": -420
    },
    "id": "iA3AyaM1uU-t",
    "outputId": "6f3883e1-0e95-4f0a-d425-a88979da48bf"
   },
   "outputs": [
    {
     "data": {
      "text/plain": [
       "(array([3.49956255e-05, 3.49956255e-05, 8.74890639e-05, 1.83727034e-04,\n",
       "        2.10848644e-03, 1.05599300e-02, 2.30971129e-02, 2.82589676e-02,\n",
       "        4.39107612e-02, 2.51968504e-02, 2.35258093e-02, 1.21522310e-02,\n",
       "        5.16185477e-03, 5.07436570e-04, 1.13735783e-04, 2.62467192e-05,\n",
       "        8.74890639e-06, 0.00000000e+00, 0.00000000e+00, 8.74890639e-06]),\n",
       " array([121.92 , 127.635, 133.35 , 139.065, 144.78 , 150.495, 156.21 ,\n",
       "        161.925, 167.64 , 173.355, 179.07 , 184.785, 190.5  , 196.215,\n",
       "        201.93 , 207.645, 213.36 , 219.075, 224.79 , 230.505, 236.22 ]),\n",
       " <BarContainer object of 20 artists>)"
      ]
     },
     "execution_count": 80,
     "metadata": {},
     "output_type": "execute_result"
    },
    {
     "data": {
      "image/png": "[encoded data removed]",
      "text/plain": [
       "<Figure size 640x480 with 1 Axes>"
      ]
     },
     "metadata": {},
     "output_type": "display_data"
    }
   ],
   "source": [
    "#CHIEU CAO\n",
    "mu_height = data.height_cm.mean()\n",
    "sigma_height = data.height_cm.std()\n",
    "\n",
    "#Hinh minh hoa chieu cao\n",
    "pl.hist(data.height_cm, bins=20, density=True)"
   ]
  },
  {
   "cell_type": "code",
   "execution_count": 81,
   "metadata": {
    "colab": {
     "base_uri": "https://localhost:8080/",
     "height": 621
    },
    "executionInfo": {
     "elapsed": 182,
     "status": "ok",
     "timestamp": 1742279676387,
     "user": {
      "displayName": "Tín Ngô Trương Đức",
      "userId": "15448735358532245821"
     },
     "user_tz": -420
    },
    "id": "tGOeCfac9XyG",
    "outputId": "138a2e10-a671-4f71-afa7-18d4f9287e6a"
   },
   "outputs": [
    {
     "data": {
      "text/plain": [
       "(array([1.12272540e-04, 3.74582020e-03, 1.42381994e-02, 2.08163496e-02,\n",
       "        2.37405389e-02, 1.71062524e-02, 1.06760979e-02, 6.69042272e-03,\n",
       "        2.48530577e-03, 1.13803529e-03, 8.11424266e-04, 2.09235188e-04,\n",
       "        7.65494590e-05, 1.37789026e-04, 4.08263782e-05, 3.06197836e-05,\n",
       "        0.00000000e+00, 0.00000000e+00, 0.00000000e+00, 1.02065945e-05]),\n",
       " array([ 30.844256 ,  40.6418432,  50.4394304,  60.2370176,  70.0346048,\n",
       "         79.832192 ,  89.6297792,  99.4273664, 109.2249536, 119.0225408,\n",
       "        128.820128 , 138.6177152, 148.4153024, 158.2128896, 168.0104768,\n",
       "        177.808064 , 187.6056512, 197.4032384, 207.2008256, 216.9984128,\n",
       "        226.796    ]),\n",
       " <BarContainer object of 20 artists>)"
      ]
     },
     "execution_count": 81,
     "metadata": {},
     "output_type": "execute_result"
    },
    {
     "data": {
      "image/png": "[encoded data removed]",
      "text/plain": [
       "<Figure size 640x480 with 1 Axes>"
      ]
     },
     "metadata": {},
     "output_type": "display_data"
    }
   ],
   "source": [
    "#CAN NANG\n",
    "mu_weight = data.weight_kg.mean()\n",
    "sigma_weight = data.weight_kg.std()\n",
    "\n",
    "#hinh minh hoa can nang\n",
    "pl.hist(data.weight_kg, bins=20, density=True)"
   ]
  },
  {
   "cell_type": "code",
   "execution_count": 92,
   "metadata": {
    "colab": {
     "base_uri": "https://localhost:8080/",
     "height": 495
    },
    "executionInfo": {
     "elapsed": 197,
     "status": "ok",
     "timestamp": 1742280200048,
     "user": {
      "displayName": "Tín Ngô Trương Đức",
      "userId": "15448735358532245821"
     },
     "user_tz": -420
    },
    "id": "tCdLgyR_-P9S",
    "outputId": "5b429071-d6d6-416d-f8a4-9fd4430e49b5"
   },
   "outputs": [
    {
     "data": {
      "text/plain": [
       "Text(0, 0.5, 'Can nang')"
      ]
     },
     "execution_count": 92,
     "metadata": {},
     "output_type": "execute_result"
    },
    {
     "data": {
      "image/png": "[encoded data removed]",
      "text/plain": [
       "<Figure size 640x480 with 1 Axes>"
      ]
     },
     "metadata": {},
     "output_type": "display_data"
    }
   ],
   "source": [
    "data.boxplot(column='weight_kg', by='exerany')\n",
    "pl.xlabel('Tap the duc')\n",
    "pl.ylabel('Can nang')"
   ]
  },
  {
   "cell_type": "markdown",
   "metadata": {
    "id": "7BKqVQ1cuU-t"
   },
   "source": [
    "\n",
    "### Câu 5\n",
    "\n",
    "Phân bố tuổi tác trong mẫu: Hãy mô tả phân bố tuổi của người tham gia khảo sát. Tuổi trung bình, độ lệch chuẩn, và các phân vị 25%, 50%, 75% là bao nhiêu?\n",
    "\n"
   ]
  },
  {
   "cell_type": "code",
   "execution_count": 93,
   "metadata": {
    "colab": {
     "base_uri": "https://localhost:8080/",
     "height": 335
    },
    "executionInfo": {
     "elapsed": 16,
     "status": "ok",
     "timestamp": 1742280282670,
     "user": {
      "displayName": "Tín Ngô Trương Đức",
      "userId": "15448735358532245821"
     },
     "user_tz": -420
    },
    "id": "POjmAUrsuU-u",
    "outputId": "c2e54d87-043b-4b01-c967-3e3316ae0fe8"
   },
   "outputs": [
    {
     "data": {
      "text/html": [
       "<div>\n",
       "<style scoped>\n",
       "    .dataframe tbody tr th:only-of-type {\n",
       "        vertical-align: middle;\n",
       "    }\n",
       "\n",
       "    .dataframe tbody tr th {\n",
       "        vertical-align: top;\n",
       "    }\n",
       "\n",
       "    .dataframe thead th {\n",
       "        text-align: right;\n",
       "    }\n",
       "</style>\n",
       "<table border=\"1\" class=\"dataframe\">\n",
       "  <thead>\n",
       "    <tr style=\"text-align: right;\">\n",
       "      <th></th>\n",
       "      <th>age</th>\n",
       "    </tr>\n",
       "  </thead>\n",
       "  <tbody>\n",
       "    <tr>\n",
       "      <th>count</th>\n",
       "      <td>20000.000000</td>\n",
       "    </tr>\n",
       "    <tr>\n",
       "      <th>mean</th>\n",
       "      <td>45.068250</td>\n",
       "    </tr>\n",
       "    <tr>\n",
       "      <th>std</th>\n",
       "      <td>17.192689</td>\n",
       "    </tr>\n",
       "    <tr>\n",
       "      <th>min</th>\n",
       "      <td>18.000000</td>\n",
       "    </tr>\n",
       "    <tr>\n",
       "      <th>25%</th>\n",
       "      <td>31.000000</td>\n",
       "    </tr>\n",
       "    <tr>\n",
       "      <th>50%</th>\n",
       "      <td>43.000000</td>\n",
       "    </tr>\n",
       "    <tr>\n",
       "      <th>75%</th>\n",
       "      <td>57.000000</td>\n",
       "    </tr>\n",
       "    <tr>\n",
       "      <th>max</th>\n",
       "      <td>99.000000</td>\n",
       "    </tr>\n",
       "  </tbody>\n",
       "</table>\n",
       "</div><br><label><b>dtype:</b> float64</label>"
      ],
      "text/plain": [
       "count    20000.000000\n",
       "mean        45.068250\n",
       "std         17.192689\n",
       "min         18.000000\n",
       "25%         31.000000\n",
       "50%         43.000000\n",
       "75%         57.000000\n",
       "max         99.000000\n",
       "Name: age, dtype: float64"
      ]
     },
     "execution_count": 93,
     "metadata": {},
     "output_type": "execute_result"
    }
   ],
   "source": [
    "data.age.describe()"
   ]
  },
  {
   "cell_type": "markdown",
   "metadata": {
    "id": "DtTLU2FtuU-u"
   },
   "source": [
    "### Câu 6\n",
    "\n",
    "Tỉ lệ người hút thuốc: Tính tỉ lệ phần trăm người tham gia khảo sát hiện đang hút thuốc lá. Liệu có sự khác biệt đáng kể về tỉ lệ này giữa các nhóm tuổi khác nhau không?\n",
    "\n"
   ]
  },
  {
   "cell_type": "code",
   "execution_count": 95,
   "metadata": {
    "colab": {
     "base_uri": "https://localhost:8080/"
    },
    "executionInfo": {
     "elapsed": 50,
     "status": "ok",
     "timestamp": 1742280396523,
     "user": {
      "displayName": "Tín Ngô Trương Đức",
      "userId": "15448735358532245821"
     },
     "user_tz": -420
    },
    "id": "rF2SD2DauU-v",
    "outputId": "b2a8c4da-bb45-4a51-d515-3f6fde2ed6b4"
   },
   "outputs": [
    {
     "name": "stdout",
     "output_type": "stream",
     "text": [
      "Ty le nguoi dung thuoc la: 0.47205\n"
     ]
    }
   ],
   "source": [
    "smoke = data.smoke100[data.smoke100==1].count()\n",
    "print(f'Ty le nguoi dung thuoc la: {smoke/data.smoke100.count()}')"
   ]
  },
  {
   "cell_type": "code",
   "execution_count": 96,
   "metadata": {
    "colab": {
     "base_uri": "https://localhost:8080/"
    },
    "executionInfo": {
     "elapsed": 38,
     "status": "ok",
     "timestamp": 1742280557922,
     "user": {
      "displayName": "Tín Ngô Trương Đức",
      "userId": "15448735358532245821"
     },
     "user_tz": -420
    },
    "id": "gy6Ucn46AqSJ",
    "outputId": "1771eba1-fc8b-40f5-9cfe-5cfe8b221882"
   },
   "outputs": [
    {
     "name": "stdout",
     "output_type": "stream",
     "text": [
      "age_group\n",
      "18-29    0.394535\n",
      "30-39    0.419742\n",
      "40-49    0.513527\n",
      "50-59    0.538296\n",
      "60-69    0.563191\n",
      "70+      0.511876\n",
      "Name: smoke100, dtype: float64\n",
      "F-statistic: 63.56521797223888\n",
      "P-value: 5.104153941831659e-66\n",
      "Có sự khác biệt đáng kể về tỉ lệ hút thuốc giữa các nhóm tuổi.\n"
     ]
    },
    {
     "name": "stderr",
     "output_type": "stream",
     "text": [
      "<ipython-input-96-e7d1242f3489>:4: FutureWarning: The default of observed=False is deprecated and will be changed to True in a future version of pandas. Pass observed=False to retain current behavior or observed=True to adopt the future default and silence this warning.\n",
      "  smoking_rates_by_age = data.groupby('age_group')['smoke100'].mean()\n"
     ]
    }
   ],
   "source": [
    "# prompt: # Liệu có sự khác biệt đáng kể về tỉ lệ này giữa các nhóm tuổi khác nhau không?\n",
    "# Tính tỉ lệ người hút thuốc theo từng nhóm tuổi\n",
    "data['age_group'] = pd.cut(data['age'], bins=[18, 30, 40, 50, 60, 70, 100], labels=['18-29', '30-39', '40-49', '50-59', '60-69', '70+'])\n",
    "smoking_rates_by_age = data.groupby('age_group')['smoke100'].mean()\n",
    "print(smoking_rates_by_age)\n",
    "\n",
    "# Kiểm tra sự khác biệt đáng kể về tỉ lệ hút thuốc giữa các nhóm tuổi bằng kiểm định ANOVA\n",
    "from scipy.stats import f_oneway\n",
    "\n",
    "groups = [data['smoke100'][data['age_group'] == group] for group in smoking_rates_by_age.index]\n",
    "f_statistic, p_value = f_oneway(*groups)\n",
    "\n",
    "print(f\"F-statistic: {f_statistic}\")\n",
    "print(f\"P-value: {p_value}\")\n",
    "\n",
    "# Nếu p-value < 0.05, thì có sự khác biệt đáng kể về tỉ lệ hút thuốc giữa các nhóm tuổi.\n",
    "if p_value < 0.05:\n",
    "  print(\"Có sự khác biệt đáng kể về tỉ lệ hút thuốc giữa các nhóm tuổi.\")\n",
    "else:\n",
    "  print(\"Không có sự khác biệt đáng kể về tỉ lệ hút thuốc giữa các nhóm tuổi.\")\n"
   ]
  },
  {
   "cell_type": "markdown",
   "metadata": {
    "id": "TwrbYhz6uU-v"
   },
   "source": [
    "### Câu 7\n",
    "\n",
    "BMI trung bình theo giới tính: Tính chỉ số BMI trung bình cho nam và nữ trong mẫu.\n",
    "\n"
   ]
  },
  {
   "cell_type": "code",
   "execution_count": 102,
   "metadata": {
    "colab": {
     "base_uri": "https://localhost:8080/"
    },
    "executionInfo": {
     "elapsed": 30,
     "status": "ok",
     "timestamp": 1742280879564,
     "user": {
      "displayName": "Tín Ngô Trương Đức",
      "userId": "15448735358532245821"
     },
     "user_tz": -420
    },
    "id": "jjwDM-s9uU-w",
    "outputId": "15a0568f-4d2d-4a9f-e3f0-ba95b22c9f20"
   },
   "outputs": [
    {
     "name": "stdout",
     "output_type": "stream",
     "text": [
      "BMI trung binh cho nam: 26.926312597397818\n",
      "BMI trung binh cho nu: 25.743674115903904\n"
     ]
    }
   ],
   "source": [
    "data['BMI'] = data['weight_kg']/(pow(data['height_cm']/100,2))\n",
    "mean_bmi_male = data.BMI[data.gender == 'm'].mean()\n",
    "mean_bmi_female = data.BMI[data.gender == 'f'].mean()\n",
    "print(f'BMI trung binh cho nam: {mean_bmi_male}')\n",
    "print(f'BMI trung binh cho nu: {mean_bmi_female}')"
   ]
  },
  {
   "cell_type": "markdown",
   "metadata": {
    "id": "s-tooJ32uU-x"
   },
   "source": [
    "### câu 8\n",
    "\n",
    "Phân tích tỉ lệ bệnh béo phì: Sử dụng các tiêu chuẩn của CDC về chỉ số BMI để phân loại người tham gia vào nhóm béo phì. Tính tỉ lệ béo phì theo giới tính và độ tuổi."
   ]
  },
  {
   "cell_type": "code",
   "execution_count": null,
   "metadata": {
    "id": "Tfu6NX2suU-y"
   },
   "outputs": [],
   "source": [
    "# prompt: Phân tích tỉ lệ bệnh béo phì: Sử dụng các tiêu chuẩn của CDC về chỉ số BMI để phân loại người tham gia vào nhóm béo phì. Tính tỉ lệ béo phì theo giới tính và độ tuổi.\n",
    "\n",
    "# Phân loại người tham gia vào nhóm béo phì dựa trên BMI\n",
    "data['Obesity'] = np.where(data['BMI'] >= 30, 1, 0)\n",
    "\n",
    "# Tính tỉ lệ béo phì theo giới tính\n",
    "obesity_rate_male = data[data['gender'] == 'm']['Obesity'].mean()\n",
    "obesity_rate_female = data[data['gender'] == 'f']['Obesity'].mean()\n",
    "\n",
    "print(f\"Tỉ lệ béo phì ở nam: {obesity_rate_male}\")\n",
    "print(f\"Tỉ lệ béo phì ở nữ: {obesity_rate_female}\")\n",
    "\n",
    "# Tính tỉ lệ béo phì theo độ tuổi\n",
    "obesity_rate_by_age = data.groupby('age_group')['Obesity'].mean()\n",
    "print(\"Tỉ lệ béo phì theo độ tuổi:\\n\", obesity_rate_by_age)\n"
   ]
  },
  {
   "cell_type": "markdown",
   "metadata": {
    "id": "NkC1D-35uU-y"
   },
   "source": [
    "---"
   ]
  }
 ],
 "metadata": {
  "colab": {
   "provenance": []
  },
  "kernelspec": {
   "display_name": "Python [conda env:base] *",
   "language": "python",
   "name": "conda-base-py"
  },
  "language_info": {
   "codemirror_mode": {
    "name": "ipython",
    "version": 3
   },
   "file_extension": ".py",
   "mimetype": "text/x-python",
   "name": "python",
   "nbconvert_exporter": "python",
   "pygments_lexer": "ipython3",
   "version": "3.12.7"
  }
 },
 "nbformat": 4,
 "nbformat_minor": 4
}
