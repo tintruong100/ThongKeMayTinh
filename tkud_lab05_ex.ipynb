{
 "cells": [
  {
   "cell_type": "markdown",
   "metadata": {
    "id": "hetF_D-MkzDt"
   },
   "source": [
    "# Lab 05 - Bài tập"
   ]
  },
  {
   "cell_type": "code",
   "execution_count": 2,
   "metadata": {},
   "outputs": [],
   "source": [
    "import numpy as np\n",
    "import matplotlib.pyplot as pl\n",
    "import pandas as pd\n",
    "import scipy.stats as sc"
   ]
  },
  {
   "cell_type": "markdown",
   "metadata": {},
   "source": [
    "**Bài 01:** Một bài thi trắc nghiệm gồm 10 câu hỏi, mỗi câu có 4 phương án trả lời trong đó chỉ có một phương án đúng. Bạn hãy: \n",
    "\n",
    "a. Một sinh viên không học bài làm bài bằng cách chọn ngẫu nhiên một phương án cho mỗi câu hỏi. Bạn hãy dùng hàm random để in ra số câu đúng của bạn sinh viên trong 10 lần kiểm tra.\n",
    "\n",
    "b. Giả sử mỗi câu đúng được 4 điểm, mỗi câu sai bị trừ 2 điểm. Tính xác suất để sinh viên này được 4 điểm\n",
    "\n",
    "c. Gọi X là số câu trả lời đúng. Tính E(X) và Var(X)"
   ]
  },
  {
   "cell_type": "code",
   "execution_count": 18,
   "metadata": {},
   "outputs": [
    {
     "data": {
      "text/plain": [
       "So cau dung\n",
       "1    1\n",
       "2    2\n",
       "3    3\n",
       "4    4\n",
       "Name: count, dtype: int64"
      ]
     },
     "execution_count": 18,
     "metadata": {},
     "output_type": "execute_result"
    }
   ],
   "source": [
    "#Theo de n=10, p=0.25\n",
    "n, p = 10, 0.25\n",
    "\n",
    "#a. Một sinh viên không học bài làm bài bằng cách chọn ngẫu nhiên một phương án cho mỗi câu hỏi. \n",
    "#Bạn hãy dùng hàm random để in ra số câu đúng của bạn sinh viên trong 10 lần kiểm tra.\n",
    "ans = sc.binom.rvs(n, p, size=10)\n",
    "pd.Series(data=ans, name='So cau dung').value_counts().sort_index()"
   ]
  },
  {
   "cell_type": "code",
   "execution_count": 19,
   "metadata": {},
   "outputs": [
    {
     "data": {
      "text/plain": [
       "0.14599800109863273"
      ]
     },
     "execution_count": 19,
     "metadata": {},
     "output_type": "execute_result"
    }
   ],
   "source": [
    "#b. Giả sử mỗi câu đúng được 4 điểm, mỗi câu sai bị trừ 2 điểm. Tính xác suất để sinh viên này được 4 điểm\n",
    "# (x*4)-((10-x)*2)=4\n",
    "#4x-20+2x=4\n",
    "#6x=24\n",
    "#x=4\n",
    "#Can lam dung 4 cau de duoc 4 diem\n",
    "x = 4\n",
    "sc.binom.pmf(x, n, p)"
   ]
  },
  {
   "cell_type": "code",
   "execution_count": 23,
   "metadata": {},
   "outputs": [
    {
     "name": "stdout",
     "output_type": "stream",
     "text": [
      "Ki vong: E(X)=2.5\n",
      "Phuong sai: Var(E)=1.875\n"
     ]
    }
   ],
   "source": [
    "#c. Gọi X là số câu trả lời đúng. Tính E(X) và Var(X)\n",
    "#E(X) ki vong: n*p\n",
    "#Var(X) phuong sai: n*p*(1-p)\n",
    "E_X = n*p\n",
    "Var_X = n*p*(1-p)\n",
    "print(f\"Ki vong: E(X)={E_X}\")\n",
    "print(f\"Phuong sai: Var(E)={Var_X}\")"
   ]
  },
  {
   "cell_type": "markdown",
   "metadata": {},
   "source": [
    "**Bài 02:** Một trung tâm bưu điện nhận được 3 cuộc gọi điện thoại mỗi phút. Tính xác suất để trung tâm nhận được 1 cuộc gọi, 2 cuộc gọi, 3 cuộc gọi trong vòng một phút biết số cuộc gọi trong một phút có phân phối Poisson."
   ]
  },
  {
   "cell_type": "code",
   "execution_count": 38,
   "metadata": {},
   "outputs": [
    {
     "name": "stdout",
     "output_type": "stream",
     "text": [
      "P(x=1)=0.14936120510359185\n",
      "P(x=2)=0.22404180765538775\n",
      "P(x=3)=0.22404180765538775\n",
      "P(x=1,2,3)=0.5974448204143673\n"
     ]
    }
   ],
   "source": [
    "lamda = 3;\n",
    "#N~P(3)\n",
    "sc.poisson.rvs(mu=lamda)\n",
    "x1, x2, x3 = 1, 2, 3;\n",
    "p1 = sc.poisson.pmf(x1, mu=lamda)\n",
    "p2 = sc.poisson.pmf(x2, mu=lamda)\n",
    "p3 = sc.poisson.pmf(x3, mu=lamda)\n",
    "print(f\"P(x=1)={p1}\")\n",
    "print(f\"P(x=2)={p2}\")\n",
    "print(f\"P(x=3)={p3}\")\n",
    "print(f\"P(x=1,2,3)={p1+p2+p3}\")"
   ]
  },
  {
   "cell_type": "markdown",
   "metadata": {},
   "source": [
    "**Bài 03:** Trọng lượng (đơn vị gam) của một loại trái cây có phân phối chuẩn với µ = 500 (gam) gam và $σ^2 = 16 (gam^2)$. Trái cây thu hoạch được phân loại theo trọng lượng như sau:\n",
    "\n",
    "Loại 1: trên 505 gam\n",
    "\n",
    "Loại 2: từ 495 – 505 gam\n",
    "\n",
    "Loại 3: dười 495 gam\n",
    "\n",
    "a. Hãy tính tỷ lệ của mỗi loại.\n",
    "b. Bạn hãy mô phỏng lấy mẫu  20 trái cây trên. Bạn hãy vẽ histogram trọng lượng trái cây và tính giá trị trung bình và độ lệch chuẩn trái cây từ mẫu\n",
    "c. Bạn hãy mô phỏng lấy 100 trái cây trên. Bạn hãy vẽ histogram trọng lượng trái cây và tính giá trị trung bình và độ lệch chuẩn trái cây từ mẫu\n",
    "d. Từ hai cách lấy mẫu ở câu b, c bạn có nhận xét gì không?"
   ]
  },
  {
   "cell_type": "code",
   "execution_count": 80,
   "metadata": {},
   "outputs": [
    {
     "name": "stdout",
     "output_type": "stream",
     "text": [
      "Ti le loai 1: 0.6226697184701571\n",
      "Ti le loai 2: 0.24533943694031413\n",
      "Ti le loai 3: 0.37733028152984294\n"
     ]
    }
   ],
   "source": [
    "#theo de N~N(500,16)\n",
    "mu=500\n",
    "sigma=16\n",
    "#a. Hãy tính tỷ lệ của mỗi loại.\n",
    "#Loại 1: trên 505 gam = 1-P(X<=505)\n",
    "loai1 = sc.norm.cdf(505, loc=mu, scale=sigma)\n",
    "#Loại 2: từ 495 – 505 gam = P(X<=505)-P(X<=495)\n",
    "loai2 = sc.norm.cdf(505, loc=mu, scale=sigma)-sc.norm.cdf(495, loc=mu, scale=sigma)\n",
    "#Loại 3: dười 495 gam = P(X<=495)\n",
    "loai3 = sc.norm.cdf(495, loc=mu, scale=sigma)\n",
    "print(f\"Ti le loai 1: {loai1}\")\n",
    "print(f\"Ti le loai 2: {loai2}\")\n",
    "print(f\"Ti le loai 3: {loai3}\")"
   ]
  },
  {
   "cell_type": "code",
   "execution_count": 81,
   "metadata": {},
   "outputs": [
    {
     "name": "stdout",
     "output_type": "stream",
     "text": [
      "Gia tri trung binh: x=499.15902828102526\n",
      "Do lech chuan cua mau la: s=14.600511236233318\n"
     ]
    },
    {
     "data": {
      "image/png": "[encoded data removed]",
      "text/plain": [
       "<Figure size 640x480 with 1 Axes>"
      ]
     },
     "metadata": {},
     "output_type": "display_data"
    }
   ],
   "source": [
    "#b. Bạn hãy mô phỏng lấy mẫu 20 trái cây trên. \n",
    "#Bạn hãy vẽ histogram trọng lượng trái cây và tính giá trị trung bình và độ lệch chuẩn trái cây từ mẫu \n",
    "frust = sc.norm.rvs(loc=mu, scale=sigma, size=20)\n",
    "pl.hist(frust, bins=100)\n",
    "pl.show\n",
    "mean = pd.Series(data=frust).mean()\n",
    "std = pd.Series(data=frust).std()\n",
    "print(f\"Gia tri trung binh: x={mean}\")\n",
    "print(f\"Do lech chuan cua mau la: s={std}\")"
   ]
  },
  {
   "cell_type": "code",
   "execution_count": 82,
   "metadata": {},
   "outputs": [
    {
     "name": "stdout",
     "output_type": "stream",
     "text": [
      "Gia tri trung binh mau 100: 496.6976155830328\n",
      "Do lech chuan mau 100: 14.984240060163229\n"
     ]
    },
    {
     "data": {
      "image/png": "[encoded data removed]",
      "text/plain": [
       "<Figure size 640x480 with 1 Axes>"
      ]
     },
     "metadata": {},
     "output_type": "display_data"
    }
   ],
   "source": [
    "#c. Bạn hãy mô phỏng lấy 100 trái cây trên. Bạn hãy vẽ histogram trọng lượng trái cây và tính giá trị trung bình và độ lệch chuẩn trái cây từ mẫu \n",
    "frust_100 = sc.norm.rvs(loc=mu, scale=sigma, size=100)\n",
    "pl.hist(frust_100, bins=100)\n",
    "pl.show\n",
    "print(f\"Gia tri trung binh mau 100: {np.mean(frust_100)}\")\n",
    "print(f\"Do lech chuan mau 100: {np.std(frust_100)}\")"
   ]
  },
  {
   "cell_type": "markdown",
   "metadata": {},
   "source": [
    "**Bài 04:** Mô phỏng tung một con xúc sắc cân đối đồng chất 5000 lần. Dựa vào giá trị mô phỏng, bạn hãy tìm các giá trị xác suất dưới đây:\n",
    "\n",
    "a. Xác suất để  số chấm xuất hiện là 4\n",
    "\n",
    "b. Xác suất để số chấm xuất hiện lớn hơn hoặc bằng 4\n",
    "\n",
    "c. Giả sử biết số chấm xuất hiện lớn hơn hoặc bằng 4. Hãy tìm xác suất để mặt 6 chấm xuất hiện."
   ]
  },
  {
   "cell_type": "code",
   "execution_count": null,
   "metadata": {
    "vscode": {
     "languageId": "plaintext"
    }
   },
   "outputs": [],
   "source": []
  },
  {
   "cell_type": "markdown",
   "metadata": {},
   "source": [
    "**Bài 05:** Tạo 5000 số ngẫu nhiên có phân phối nhị thức với n=50, p=0.7 Bạn Hãy\n",
    "\n",
    "a. Tìm các giá trị thống kê: min, max, Q1, Q2, Q3\n",
    "\n",
    "b. Vẽ đồ thị boxplot\n",
    "\n",
    "c. Vẽ các đồ thị: tần số, tần suất"
   ]
  },
  {
   "cell_type": "code",
   "execution_count": null,
   "metadata": {
    "vscode": {
     "languageId": "plaintext"
    }
   },
   "outputs": [],
   "source": []
  },
  {
   "cell_type": "markdown",
   "metadata": {},
   "source": [
    "**Bài 6**\n",
    "\n",
    "Giả sử X là biến ngẫu nhiên rời rạc\n",
    "\n",
    "a. Hãy cho biết ý nghĩa câu lệnh sau: `binom.pmf(4, 10, 0.6)`\n",
    "\n",
    "b. Giả sử X có phân phối nhị thức `X ~ B(10, 0.6)`. Hãy tính các giá trị sau:  \n",
    "$P(X \\leq 5), P(X \\le 5), P(X \\ge 4), P(X = 5) $\n",
    "\n",
    "c. Hãy cho biết ý nghĩa câu lệnh sau: `poisson.pmf(4, 3)`\n",
    "\n",
    "d. Giả sử X có phân phối Poisson `X ~ P(3)`. Hãy tính các giá trị sau:  \n",
    "$P(X \\leq 5), P(X \\le 5), P(X \\ge 4), P(X = 5) $"
   ]
  },
  {
   "cell_type": "code",
   "execution_count": null,
   "metadata": {},
   "outputs": [],
   "source": []
  },
  {
   "cell_type": "markdown",
   "metadata": {},
   "source": [
    "**Bài 7**\n",
    "\n",
    "a. Cho biết ý nghĩa của các câu lệnh sau:\n",
    "\n",
    "- `norm.cdf(2)`\n",
    "\n",
    "- `norm.cdf(2, 1, 1)`\n",
    "\n",
    "- `norm.cdf(2, 1, 2)`\n",
    "\n",
    "b. Cho biết kết quả của câu lệnh sau: `norm.ppf(norm.cdf(2))`\n",
    "\n",
    "c. Tính các giá trị sau và vẽ hình minh họa cho các giá trị tính được:\n",
    "\n",
    "- `norm.ppf(0.975)`\n",
    "\n",
    "- `norm.ppf(0.975, 1, 1)`\n",
    "\n",
    "- `norm.ppf(0.975, 1, 2)`\n",
    "\n",
    "d. Giả sử biến ngẫu nhiên X có phân phối chuẩn với kỳ vọng là 24 và phương sai là 16. Hãy tính các giá trị sau:\n",
    "\n",
    "- $P(X \\leq 20)$\n",
    "- $P(X \\ge 29.5)$\n",
    "- $P(X = 23.8)$"
   ]
  },
  {
   "cell_type": "code",
   "execution_count": null,
   "metadata": {},
   "outputs": [],
   "source": []
  },
  {
   "cell_type": "markdown",
   "metadata": {},
   "source": [
    "**Bài 8**\n",
    "\n",
    "Một công ty sản xuất làm ra các chi tiết máy với độ dài các chi tiết có phân phối chuẩn với kỳ vọng là 3000 mm và độ lệch chuẩn là 3 mm. Yêu cầu cho các chi tiết máy này là phải có chiều dài từ 2993 mm đến 3007 mm. Tính tỷ lệ sản phẩm lỗi của công ty"
   ]
  },
  {
   "cell_type": "code",
   "execution_count": null,
   "metadata": {},
   "outputs": [],
   "source": []
  },
  {
   "cell_type": "markdown",
   "metadata": {},
   "source": [
    "**Bài 9**\n",
    "\n",
    "Giả sử điểm thi TOEIC là một biến ngẫu nhiên có phân phối chuẩn với kỳ vọng là 500, độ lệch chuẩn là 8. Bạn hãy:\n",
    "\n",
    "a. Mô phỏng bằng cách phát sinh ngẫu nhiên điểm thi TOIEC của một nhóm gồm 50 người.\n",
    "\n",
    "b. Tính điểm trung bình và độ lệch chuẩn về điểm của nhóm.\n",
    "\n",
    "c. Tìm miền giá trị, và miền phân vị (IQR) của nhóm\n",
    "\n",
    "d. Cho biết tỷ lệ đạt trên 450 điểm của nhóm. \n",
    "\n",
    "e. Vẽ đồ thị histogram của nhóm và so sánh với đồ thị hàm mật độ của phân phối chuẩn với kỳ vọng là 500 và độ lệch chuẩn là 8.\n",
    "\n",
    "f. Thay vì mô phỏng 50 người, hãy mô phỏng nhóm với 100 người thi. Bạn có nhận xét gì?"
   ]
  },
  {
   "cell_type": "code",
   "execution_count": null,
   "metadata": {},
   "outputs": [],
   "source": []
  },
  {
   "cell_type": "markdown",
   "metadata": {},
   "source": [
    "**Bài 10**\n",
    "\n",
    "Viết một chương trình để mô phỏng việc tung đồng xu và đánh giá phương sai của giá trị mô phỏng của biến ngẫu nhiên X (tung được mặt `Head`) đối với các số lần tung khác nhau. Giả sử  đồng xu phải cân bằng. \n",
    "\n",
    "Đối với mỗi N từ 10; 40; 90; 160; 250; 490; 640; 810; 1000, hãy ước tính giá trị của X bằng cách mô phỏng số lần tung đó. \n",
    "\n",
    "Bạn nên chạy mỗi mô phỏng 100 lần và sử dụng tập hợp các ước tính để đánh giá phương sai của ước tính x của bạn. Vẽ biểu đồ phương sai này so với N, bạn có nhận xét gì không?"
   ]
  },
  {
   "cell_type": "code",
   "execution_count": null,
   "metadata": {},
   "outputs": [],
   "source": []
  },
  {
   "cell_type": "markdown",
   "metadata": {},
   "source": [
    "---"
   ]
  }
 ],
 "metadata": {
  "colab": {
   "authorship_tag": "ABX9TyOkldNpyHDDGNs27UhN+pnq",
   "provenance": []
  },
  "kernelspec": {
   "display_name": "Python 3 (ipykernel)",
   "language": "python",
   "name": "python3"
  },
  "language_info": {
   "codemirror_mode": {
    "name": "ipython",
    "version": 3
   },
   "file_extension": ".py",
   "mimetype": "text/x-python",
   "name": "python",
   "nbconvert_exporter": "python",
   "pygments_lexer": "ipython3",
   "version": "3.12.7"
  }
 },
 "nbformat": 4,
 "nbformat_minor": 4
}
